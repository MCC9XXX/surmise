{
 "cells": [
  {
   "cell_type": "markdown",
   "metadata": {},
   "source": [
    "# Example 1: Ball drop"
   ]
  },
  {
   "cell_type": "markdown",
   "metadata": {
    "lines_to_next_cell": 0
   },
   "source": [
    "To illustrate how to use `emulator` class, we will start with a very simple example of a falling ball. In this example, we emulate the simulation output using only a computer code--a simulator-- data via methods `PCGP` and `PCGPwM`.\n",
    "\n",
    "First, import the main libraries used for this example."
   ]
  },
  {
   "cell_type": "code",
   "execution_count": 1,
   "metadata": {
    "lines_to_next_cell": 1
   },
   "outputs": [],
   "source": [
    "import numpy as np\n",
    "import scipy.stats as sps\n",
    "import matplotlib.pyplot as plt \n",
    "from surmise.emulation import emulator"
   ]
  },
  {
   "cell_type": "markdown",
   "metadata": {},
   "source": [
    "## Computer model experiments"
   ]
  },
  {
   "cell_type": "markdown",
   "metadata": {},
   "source": [
    "In this example, a large ball is dropped from a tower, and its height is recorded at discrete time points until it hits the ground. We will consider two simple models for this physical process."
   ]
  },
  {
   "cell_type": "markdown",
   "metadata": {},
   "source": [
    "### Model 1 ($M_1$)"
   ]
  },
  {
   "cell_type": "markdown",
   "metadata": {},
   "source": [
    "The gravitational force causes objects to have the acceleration $g$ downward, so the height $h$ at time $t$ is given by $h = h_0 − \\frac{1}{2} gt^2$ where $h_0$ is the initial height and $t$ is the time to hit $h$ (when $t$ is small). To describe the behaviour of falling objects, we use a computer code to simulate an experiment with three inputs:\n",
    "\n",
    "* time $t$, \n",
    "* initial height $h_0$, and \n",
    "* gravity $g$.  \n",
    "\n",
    "Here, $x = (t, h_0)$ represents the controllable input conditions of the experiment, $\\theta = g$ is the parameter to be calibrated, and $f(x, \\theta)$ represents the computer model outputs."
   ]
  },
  {
   "cell_type": "code",
   "execution_count": 2,
   "metadata": {},
   "outputs": [],
   "source": [
    "def balldropmodel_grav(x, theta):\n",
    "    f = np.zeros((theta.shape[0], x.shape[0]))\n",
    "    for k in range(0, theta.shape[0]):\n",
    "        t = x[:, 0]\n",
    "        h0 = x[:, 1]\n",
    "        g = theta[k]\n",
    "        f[k, :] = h0 - (g / 2) * (t ** 2)\n",
    "    return f.T"
   ]
  },
  {
   "cell_type": "markdown",
   "metadata": {},
   "source": [
    "### Model 2 ($M_2$)"
   ]
  },
  {
   "cell_type": "markdown",
   "metadata": {},
   "source": [
    "When the ball is dropped from the top of a tower, its actual velocity approaches the terminal value $v_{ter}$. In that case, when time $t$ is large enough, eventually we can approximate $h$ as a straight line of the form $h = h_0 - v_{ter} t + c$ where $c$ denotes a constant value. To describe the behaviour of falling objects for this case, we use a computer code to simulate an experiment with four inputs:\n",
    "\n",
    "* time $t$, \n",
    "* initial height $h_0$, \n",
    "* constant value $c$, and\n",
    "* terminal velocity $v_{ter}$.\n",
    "\n",
    "$x = (t, h_0)$ represents the controllable input conditions of the experiment, $\\theta = (c, v_{ter})$ are the parameters to be calibrated, and $f(x, \\theta)$ represents the computer model outputs."
   ]
  },
  {
   "cell_type": "code",
   "execution_count": 3,
   "metadata": {},
   "outputs": [],
   "source": [
    "def balldropmodel_linear(x, theta):\n",
    "    f = np.zeros((theta.shape[0], x.shape[0]))\n",
    "    for k in range(0, theta.shape[0]):\n",
    "        t = x[:, 0]\n",
    "        h0 = x[:, 1] + theta[k, 0]\n",
    "        vter = theta[k, 1]\n",
    "        f[k, :] = h0 - vter * t\n",
    "    return f.T"
   ]
  },
  {
   "cell_type": "markdown",
   "metadata": {},
   "source": [
    "Next, we consider the computer model implementation of our mathematical model on an input grid $t \\in [0.1, 4.2]$ and $h_0 \\in \\{25, 50\\}$. To do so, we generate the $m \\times p$ input matrix $\\mathbf{x}$, such that $m$ is the number of input settings and $p$ is the number of controllable inputs. In this example, $m = 84$ and $p = 2$."
   ]
  },
  {
   "cell_type": "code",
   "execution_count": 4,
   "metadata": {},
   "outputs": [
    {
     "name": "stdout",
     "output_type": "stream",
     "text": [
      "(84, 2)\n"
     ]
    }
   ],
   "source": [
    "# the time vector of interest\n",
    "tvec = np.concatenate((np.arange(0.1, 4.3, 0.1), np.arange(0.1, 4.3, 0.1))) \n",
    "\n",
    "# the drop heights vector of interest\n",
    "h0vec = np.concatenate((25 * np.ones(42), 50 * np.ones(42)))  \n",
    "\n",
    "# the input of interest\n",
    "xtot = (np.vstack((tvec, h0vec)).T).astype('object')  \n",
    "xtotv = xtot.astype('float')\n",
    "xtot[xtot[:,1] == 25, 1] = 'lowdrop'\n",
    "xtot[xtot[:,1] == 50, 1] = 'highdrop'\n",
    "\n",
    "print(np.shape(xtot))"
   ]
  },
  {
   "cell_type": "markdown",
   "metadata": {},
   "source": [
    "## Prior specification"
   ]
  },
  {
   "cell_type": "markdown",
   "metadata": {},
   "source": [
    "Typically, the researchers have a prior knowledge about the unknown parameters in the form of a prior distribution. \n",
    "\n",
    "In $M_1$, we assume\n",
    "\n",
    "* $g$ is gamma-distributed random variable with shape $\\alpha$, location $\\mu$ and rate $\\beta$ parameters such that $g$ ~$\\Gamma(\\alpha, \\mu, \\beta)$ with $\\alpha = 2$, $\\mu = 0$, $\\beta = 5$.\n",
    "\n",
    "In $M_2$, we assume \n",
    "\n",
    "* $v_{ter}$ has a gamma distribution with shape $\\alpha$, location $\\mu$ and rate $\\beta$ parameters such that $v_{ter}$ ~ $\\Gamma(\\alpha, \\mu, \\beta)$ with $\\alpha = 2$, $\\mu = 0$, $\\beta = 10$,\n",
    "\n",
    "* $c$ has a normal distribution with mean $\\mu$ and variance $\\sigma^2$ such that $c$ ~ $N(\\mu, \\sigma^2)$ with $\\mu = 0$, $\\mu = 0$, $\\sigma^2 = 5$."
   ]
  },
  {
   "cell_type": "code",
   "execution_count": 5,
   "metadata": {},
   "outputs": [],
   "source": [
    "class priorphys_grav:\n",
    "    \"\"\" This defines the class instance of priors provided to the method. \"\"\"\n",
    "    def lpdf(theta):\n",
    "        return (sps.gamma.logpdf(theta[:, 0], 2, 0, 5)).reshape((len(theta), 1))\n",
    "    \n",
    "    def rnd(n):\n",
    "        return np.reshape(sps.gamma.rvs(2, 0, 5, size=n), (-1, 1))  # gravity"
   ]
  },
  {
   "cell_type": "code",
   "execution_count": 6,
   "metadata": {},
   "outputs": [],
   "source": [
    "class priorphys_lin:\n",
    "    \"\"\" This defines the class instance of priors provided to the method. \"\"\"\n",
    "    def lpdf(theta):\n",
    "        return (sps.norm.logpdf(theta[:, 0], 0, 5) +  # initial height deviation\n",
    "                sps.gamma.logpdf(theta[:, 1], 2, 0, 10)).reshape((len(theta), 1))   # terminal velocity\n",
    "\n",
    "\n",
    "    def rnd(n):\n",
    "        return np.vstack((sps.norm.rvs(0, 5, size=n),  # initial height deviation\n",
    "                          sps.gamma.rvs(2, 0, 10, size=n))).T  # terminal velocity"
   ]
  },
  {
   "cell_type": "markdown",
   "metadata": {},
   "source": [
    "Note that, in this example, we only use prior distributions to obtain arbitrary setting of parameters, and then to evaluate the computer models at those points to generate $n = 50$ simulation runs. In [Example 2](http://localhost:8888/notebooks/Desktop/GitHub_Folders/ModCal/examples/Example2/Example2_nb.ipynb), we will use them to obtain posterior distribution of calibration parameters $\\theta$."
   ]
  },
  {
   "cell_type": "code",
   "execution_count": 7,
   "metadata": {},
   "outputs": [
    {
     "name": "stdout",
     "output_type": "stream",
     "text": [
      "(50, 1)\n",
      "(50, 2)\n"
     ]
    }
   ],
   "source": [
    "# draw 50 random parameters from the prior\n",
    "theta_grav = priorphys_grav.rnd(50) \n",
    "print(np.shape(theta_grav))\n",
    "\n",
    "# draw 50 random parameters from the prior\n",
    "theta_lin = priorphys_lin.rnd(50)  \n",
    "print(np.shape(theta_lin))"
   ]
  },
  {
   "cell_type": "markdown",
   "metadata": {},
   "source": [
    "Let's evaluate the computer models $M_1$ and $M_2$ at those random points generated above, and obtain $m \\times n$ computer model output matrix $\\mathbf{f}$."
   ]
  },
  {
   "cell_type": "code",
   "execution_count": 8,
   "metadata": {},
   "outputs": [
    {
     "name": "stdout",
     "output_type": "stream",
     "text": [
      "(84, 50)\n",
      "(84, 50)\n"
     ]
    }
   ],
   "source": [
    "# create a computer experiment to build an emulator for the gravity simulation\n",
    "f_grav = balldropmodel_grav(xtotv, theta_grav)  \n",
    "print(np.shape(f_grav))\n",
    "\n",
    "# create a computer experiment to build an emulator for the linear simulation\n",
    "f_lin = balldropmodel_linear(xtotv, theta_lin) \n",
    "print(np.shape(f_lin))"
   ]
  },
  {
   "cell_type": "markdown",
   "metadata": {},
   "source": [
    "## Model emulation"
   ]
  },
  {
   "cell_type": "markdown",
   "metadata": {},
   "source": [
    "In this section, our goal is to illustrate how to predict, or $emulate$ our computer models, e.g., $M_1$ and $M_2$. \n",
    "\n",
    "To do this, we use two different methods `PCGP` and `PCGPwM`. First, we build an emulator for the linear simulation:"
   ]
  },
  {
   "cell_type": "code",
   "execution_count": 9,
   "metadata": {},
   "outputs": [
    {
     "name": "stdout",
     "output_type": "stream",
     "text": [
      "Function supplementtheta not found in module!\n",
      "PCGP considering  2 PCs\n"
     ]
    }
   ],
   "source": [
    "# build an emulator for the linear simulation\n",
    "emu_lin_1 = emulator(x=xtot, theta=theta_lin, f=f_lin, method='PCGP') "
   ]
  },
  {
   "cell_type": "code",
   "execution_count": 10,
   "metadata": {},
   "outputs": [
    {
     "name": "stdout",
     "output_type": "stream",
     "text": [
      "PCGPwM considering  2 PCs\n"
     ]
    }
   ],
   "source": [
    "# build an emulator for the linear simulation\n",
    "emu_lin_2 = emulator(x=xtot, theta=theta_lin, f=f_lin, method='PCGPwM') "
   ]
  },
  {
   "cell_type": "markdown",
   "metadata": {},
   "source": [
    "Build an emulator for the gravity simulation:"
   ]
  },
  {
   "cell_type": "code",
   "execution_count": 11,
   "metadata": {},
   "outputs": [
    {
     "name": "stdout",
     "output_type": "stream",
     "text": [
      "Function supplementtheta not found in module!\n",
      "PCGP considering  2 PCs\n"
     ]
    }
   ],
   "source": [
    "# build an emulator for the gravity simulation\n",
    "emu_grav_1 = emulator(x=xtot, theta=theta_grav, f=f_grav, method='PCGP')"
   ]
  },
  {
   "cell_type": "code",
   "execution_count": 12,
   "metadata": {},
   "outputs": [
    {
     "name": "stdout",
     "output_type": "stream",
     "text": [
      "PCGPwM considering  1 PCs\n"
     ]
    }
   ],
   "source": [
    "# build an emulator for the gravity simulation\n",
    "emu_grav_2 = emulator(x=xtot, theta=theta_grav, f=f_grav, method='PCGPwM')  "
   ]
  },
  {
   "cell_type": "markdown",
   "metadata": {},
   "source": [
    "## Comparison of emulation methodologies"
   ]
  },
  {
   "cell_type": "markdown",
   "metadata": {},
   "source": [
    "One way to test the accuracy of the emulators is to create a hold-out simulation run, and compare the predicted values from the emulator and simulated values. To do this, let's first generate random draws of parameters, and evaluate the computer model at those values."
   ]
  },
  {
   "cell_type": "code",
   "execution_count": 13,
   "metadata": {},
   "outputs": [],
   "source": [
    "# (Test) draw 50 random parameters from the prior\n",
    "theta_grav_test = priorphys_grav.rnd(50) \n",
    "\n",
    "# (Test) draw 50 random parameters from the prior\n",
    "theta_lin_test = priorphys_lin.rnd(50)  \n",
    "\n",
    "# (Test) the value of the gravity simulation\n",
    "f_grav_test = balldropmodel_grav(xtotv, theta_grav_test)  \n",
    "\n",
    "# (Test) the value of the linear simulation\n",
    "f_lin_test = balldropmodel_linear(xtotv, theta_lin_test) "
   ]
  },
  {
   "cell_type": "markdown",
   "metadata": {},
   "source": [
    "Then, let's get the `predict` object of the `emulator` for the hold-out data:"
   ]
  },
  {
   "cell_type": "code",
   "execution_count": 14,
   "metadata": {},
   "outputs": [],
   "source": [
    "pred_grav_1 = emu_grav_1.predict(x=xtot, theta=theta_grav_test)\n",
    "pred_grav_2 = emu_grav_2.predict(x=xtot, theta=theta_grav_test)\n",
    "\n",
    "pred_lin_1 = emu_lin_1.predict(x=xtot, theta=theta_lin_test)\n",
    "pred_lin_2 = emu_lin_2.predict(x=xtot, theta=theta_lin_test)"
   ]
  },
  {
   "cell_type": "code",
   "execution_count": 15,
   "metadata": {},
   "outputs": [],
   "source": [
    "# get the prediction means and variances\n",
    "pred_lin_1_m, pred_lin_1_var = pred_lin_1.mean(), pred_lin_1.var()\n",
    "pred_lin_2_m, pred_lin_2_var = pred_lin_2.mean(), pred_lin_2.var()\n",
    "pred_grav_1_m, pred_grav_1_var = pred_grav_1.mean(), pred_grav_1.var()\n",
    "pred_grav_2_m, pred_grav_2_var = pred_grav_2.mean(), pred_grav_2.var()"
   ]
  },
  {
   "cell_type": "code",
   "execution_count": 16,
   "metadata": {},
   "outputs": [],
   "source": [
    "def plot_residuals(f, pred_mean, pred_var):\n",
    "    fig, axs = plt.subplots(1, 2, figsize=(10, 5))\n",
    "    t1 = (pred_mean - f)/np.sqrt(pred_var)\n",
    "    p1_ub = np.percentile(t1, 97.5, axis=1)\n",
    "    p1_lb = np.percentile(t1, 2.5, axis=1)\n",
    "    axs[0].fill_between(range(42), p1_lb[0:42], p1_ub[0:42], color='grey', alpha=0.25)\n",
    "    axs[0].hlines(0, 0, 42, linestyles = 'dashed', colors = 'black')\n",
    "    axs[1].fill_between(range(42), p1_lb[42:84], p1_ub[42:84], color='grey', alpha=0.25)\n",
    "    axs[1].hlines(0, 0, 42, linestyles='dashed', colors='black')\n",
    "    plt.show()"
   ]
  },
  {
   "cell_type": "code",
   "execution_count": 17,
   "metadata": {},
   "outputs": [
    {
     "data": {
      "image/png": "[encoded data removed]",
      "text/plain": [
       "<Figure size 720x360 with 2 Axes>"
      ]
     },
     "metadata": {
      "needs_background": "light"
     },
     "output_type": "display_data"
    }
   ],
   "source": [
    "plot_residuals(f=f_lin_test, pred_mean=pred_lin_1_m, pred_var=pred_lin_1_var)"
   ]
  },
  {
   "cell_type": "code",
   "execution_count": 18,
   "metadata": {},
   "outputs": [
    {
     "data": {
      "image/png": "[encoded data removed]",
      "text/plain": [
       "<Figure size 720x360 with 2 Axes>"
      ]
     },
     "metadata": {
      "needs_background": "light"
     },
     "output_type": "display_data"
    }
   ],
   "source": [
    "plot_residuals(f=f_lin_test, pred_mean=pred_lin_2_m, pred_var=pred_lin_2_var)"
   ]
  },
  {
   "cell_type": "code",
   "execution_count": 19,
   "metadata": {},
   "outputs": [
    {
     "data": {
      "image/png": "[encoded data removed]",
      "text/plain": [
       "<Figure size 720x360 with 2 Axes>"
      ]
     },
     "metadata": {
      "needs_background": "light"
     },
     "output_type": "display_data"
    }
   ],
   "source": [
    "plot_residuals(f=f_grav_test, pred_mean=pred_grav_1_m, pred_var=pred_grav_1_var)"
   ]
  },
  {
   "cell_type": "code",
   "execution_count": 20,
   "metadata": {},
   "outputs": [
    {
     "data": {
      "image/png": "[encoded data removed]",
      "text/plain": [
       "<Figure size 720x360 with 2 Axes>"
      ]
     },
     "metadata": {
      "needs_background": "light"
     },
     "output_type": "display_data"
    }
   ],
   "source": [
    "plot_residuals(f=f_grav_test, pred_mean=pred_grav_2_m, pred_var=pred_grav_2_var)"
   ]
  },
  {
   "cell_type": "markdown",
   "metadata": {},
   "source": [
    "Finally, let's observe the sum of squared deviations between the prediction means and the simulated output:"
   ]
  },
  {
   "cell_type": "code",
   "execution_count": 21,
   "metadata": {},
   "outputs": [
    {
     "name": "stdout",
     "output_type": "stream",
     "text": [
      "Rsq PCGP =  0.979253147093447\n",
      "Rsq PCGPwM =  0.9999236785663186\n",
      "SSE PCGP =  153464.3222861674\n",
      "SSE PCGPwM =  564.549098052757\n",
      "Rsq PCGP =  0.9999942980358849\n",
      "Rsq PCGPwM =  0.9999999958751559\n",
      "SSE PCGP =  15.769822486359306\n",
      "SSE PCGPwM =  0.011408009193364115\n"
     ]
    }
   ],
   "source": [
    "print('Rsq PCGP = ', 1 - np.sum(np.square(pred_lin_1_m - f_lin_test))/np.sum(np.square(f_lin_test.T - np.mean(f_lin_test, axis = 1))))\n",
    "print('Rsq PCGPwM = ', 1 - np.sum(np.square(pred_lin_2_m - f_lin_test))/np.sum(np.square(f_lin_test.T - np.mean(f_lin_test, axis = 1))))\n",
    "\n",
    "print('SSE PCGP = ', np.sum(np.square(pred_lin_1_m - f_lin_test)))\n",
    "print('SSE PCGPwM = ', np.sum(np.square(pred_lin_2_m - f_lin_test)))\n",
    "\n",
    "print('Rsq PCGP = ', 1 - np.sum(np.square(pred_grav_1_m - f_grav_test))/np.sum(np.square(f_grav_test.T - np.mean(f_grav_test, axis = 1))))\n",
    "print('Rsq PCGPwM = ', 1 - np.sum(np.square(pred_grav_2_m - f_grav_test))/np.sum(np.square(f_grav_test.T - np.mean(f_grav_test, axis = 1))))\n",
    "\n",
    "print('SSE PCGP = ', np.sum(np.square(pred_grav_1_m - f_grav_test)))\n",
    "print('SSE PCGPwM = ', np.sum(np.square(pred_grav_2_m - f_grav_test)))"
   ]
  },
  {
   "cell_type": "markdown",
   "metadata": {},
   "source": [
    "## Additional functionalities"
   ]
  },
  {
   "cell_type": "markdown",
   "metadata": {},
   "source": [
    "Emulator class provides us the functionality of updating and manipulating the fitted emulator by using already defined functions such as `supplement()`, `remove()` and `update()`. Let's see how those functions can be used via the emulator object `emu_lin_2`:"
   ]
  },
  {
   "cell_type": "code",
   "execution_count": 22,
   "metadata": {},
   "outputs": [
    {
     "name": "stdout",
     "output_type": "stream",
     "text": [
      "50\n",
      "None\n",
      "[[ 3.95878326 52.74096778]\n",
      " [-4.59086739 60.27357844]\n",
      " [ 5.45686274 46.20704342]\n",
      " [-7.95407597 40.67792467]\n",
      " [-0.86331618  0.3980901 ]]\n"
     ]
    }
   ],
   "source": [
    "# Check the number of existing thetas used to fit the emulator\n",
    "print(len(emu_lin_2._emulator__theta))\n",
    "\n",
    "# Create some new theta values to be used in the prediction\n",
    "print(emu_lin_2._emulator__supptheta)\n",
    "theta_new = priorphys_lin.rnd(50) \n",
    "\n",
    "# Obtain 5 supplemental theta\n",
    "emu_lin_2.supplement(size=5, theta=theta_new)\n",
    "print(emu_lin_2._emulator__supptheta)"
   ]
  },
  {
   "cell_type": "markdown",
   "metadata": {},
   "source": [
    "Now, let's update and refit the emulator by adding the supplemental $\\theta$ onto the existing ones:"
   ]
  },
  {
   "cell_type": "code",
   "execution_count": 23,
   "metadata": {},
   "outputs": [
    {
     "name": "stdout",
     "output_type": "stream",
     "text": [
      "PCGPwM considering  2 PCs\n"
     ]
    }
   ],
   "source": [
    "# Obtain the corresponding f values for those thetas\n",
    "supptheta = emu_lin_2._emulator__supptheta\n",
    "f_new = balldropmodel_linear(xtotv, supptheta)  \n",
    "\n",
    "# Update the emulator \n",
    "emu_lin_2.update(f=f_new)"
   ]
  },
  {
   "cell_type": "markdown",
   "metadata": {},
   "source": [
    "Check the number of $\\theta$s used to refit the emulator now. See we have 55 of them instead of 50 after including the supplemental $\\theta$."
   ]
  },
  {
   "cell_type": "code",
   "execution_count": 24,
   "metadata": {},
   "outputs": [
    {
     "name": "stdout",
     "output_type": "stream",
     "text": [
      "None\n",
      "55\n"
     ]
    }
   ],
   "source": [
    "print(emu_lin_2._emulator__supptheta)\n",
    "print(len(emu_lin_2._emulator__theta))"
   ]
  },
  {
   "cell_type": "markdown",
   "metadata": {},
   "source": [
    "Sometimes, we might want to include new $\\theta$s without using `supplement()`. In this case, we can directly use `update()`:"
   ]
  },
  {
   "cell_type": "code",
   "execution_count": 26,
   "metadata": {},
   "outputs": [
    {
     "name": "stdout",
     "output_type": "stream",
     "text": [
      "PCGPwM considering  2 PCs\n",
      "65\n"
     ]
    }
   ],
   "source": [
    "theta_new = priorphys_lin.rnd(10) \n",
    "f_new = balldropmodel_linear(xtotv, theta_new)  \n",
    "\n",
    "# Update the model with the new theta values\n",
    "emu_lin_2.update(theta=theta_new, f=f_new)\n",
    "print(len(emu_lin_2._emulator__theta))"
   ]
  },
  {
   "cell_type": "markdown",
   "metadata": {},
   "source": [
    "Let's assume that we want to remove the new $\\theta$ values that recently included:"
   ]
  },
  {
   "cell_type": "code",
   "execution_count": 27,
   "metadata": {},
   "outputs": [
    {
     "name": "stdout",
     "output_type": "stream",
     "text": [
      "PCGPwM considering  2 PCs\n",
      "55\n"
     ]
    }
   ],
   "source": [
    "emu_lin_2.remove(theta=theta_new)\n",
    "print(len(emu_lin_2._emulator__theta))"
   ]
  }
 ],
 "metadata": {
  "jupytext": {
   "encoding": "# -*- coding: utf-8 -*-",
   "formats": "ipynb,py:percent"
  },
  "kernelspec": {
   "display_name": "Python 3",
   "language": "python",
   "name": "python3"
  },
  "language_info": {
   "codemirror_mode": {
    "name": "ipython",
    "version": 3
   },
   "file_extension": ".py",
   "mimetype": "text/x-python",
   "name": "python",
   "nbconvert_exporter": "python",
   "pygments_lexer": "ipython3",
   "version": "3.7.9"
  }
 },
 "nbformat": 4,
 "nbformat_minor": 4
}
