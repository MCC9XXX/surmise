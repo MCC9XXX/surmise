{
 "cells": [
  {
   "cell_type": "markdown",
   "metadata": {},
   "source": [
    "# Example 3: Acceleration due to gravity"
   ]
  },
  {
   "cell_type": "markdown",
   "metadata": {},
   "source": [
    "To illustrate how to use `emulator` and `calibrator` objects, we will give another example of a free-falling objects.\n",
    "\n",
    "First, import the main libraries we use for this example:"
   ]
  },
  {
   "cell_type": "code",
   "execution_count": 1,
   "metadata": {},
   "outputs": [],
   "source": [
    "import numpy as np\n",
    "from matplotlib import pyplot as plt\n",
    "import scipy.stats as sps\n",
    "from surmise.emulation import emulator\n",
    "from surmise.calibration import calibrator"
   ]
  },
  {
   "cell_type": "markdown",
   "metadata": {},
   "source": [
    "## Data: Falling ball"
   ]
  },
  {
   "cell_type": "markdown",
   "metadata": {},
   "source": [
    "The data include 63 field observations at 21 heights, with three replicates at each height. Let's read the real data first, and then visualize:"
   ]
  },
  {
   "cell_type": "code",
   "execution_count": 2,
   "metadata": {
    "lines_to_next_cell": 0
   },
   "outputs": [],
   "source": [
    "# Read the data\n",
    "ball = np.loadtxt('ball.csv', delimiter=',')\n",
    "m = len(ball)\n",
    "# height\n",
    "xrep = np.reshape(ball[:, 0], (m, 1))\n",
    "x = xrep[0:21]\n",
    "# time\n",
    "y = np.reshape(ball[:, 1], ((m, 1)))\n",
    "y = y[0:21]"
   ]
  },
  {
   "cell_type": "code",
   "execution_count": 3,
   "metadata": {},
   "outputs": [
    {
     "data": {
      "image/png": "[encoded data removed]",
      "text/plain": [
       "<Figure size 432x288 with 1 Axes>"
      ]
     },
     "metadata": {
      "needs_background": "light"
     },
     "output_type": "display_data"
    }
   ],
   "source": [
    "# Observe the data\n",
    "plt.scatter(x, y, color='red')\n",
    "plt.xlabel(\"height (meters)\")\n",
    "plt.ylabel(\"time (seconds)\")\n",
    "plt.show()"
   ]
  },
  {
   "cell_type": "markdown",
   "metadata": {},
   "source": [
    "## Computer model experiments"
   ]
  },
  {
   "cell_type": "markdown",
   "metadata": {},
   "source": [
    "The time $t$ to drop the ball at a distance $h$ is $t = \\sqrt{2h/g}$ for gravity $g$. Here, the gravity $g$ is our calibration parameter $\\theta$ bacause we don't know the actual value of $g$ for the location the ball is dropped. We consider the computer implementation $f(x, \\theta)$ of the mathematical model that maps $(h, g)$ to $(x, \\theta)$ in $[0, 1]$ to compute $t$. "
   ]
  },
  {
   "cell_type": "code",
   "execution_count": 4,
   "metadata": {},
   "outputs": [],
   "source": [
    "# Computer implementation of the mathematical model\n",
    "def timedrop(x, theta, hr, gr):\n",
    "    '''\n",
    "    Parameters\n",
    "    ----------\n",
    "    x : m x 1 array\n",
    "        Input settings.\n",
    "    theta : n x 1 array \n",
    "        Parameters to be calibrated.\n",
    "    hr : Array of size 2\n",
    "        min and max value of height.\n",
    "    gr : Array of size 2\n",
    "        min and max value of gravity.\n",
    "\n",
    "    Returns\n",
    "    -------\n",
    "    m x n array\n",
    "        m x n computer model evaluations.\n",
    "\n",
    "    '''\n",
    "    # Assume x and theta are within (0, 1)\n",
    "    min_g = min(gr)\n",
    "    range_g = max(gr) - min(gr)\n",
    "    min_h = min(hr)\n",
    "    range_h = max(hr) - min_h\n",
    "    f = np.zeros((theta.shape[0], x.shape[0]))\n",
    "    for k in range(0, theta.shape[0]):\n",
    "        g = range_g*theta[k] + min_g\n",
    "        h = range_h*x + min_h\n",
    "        f[k, :] = np.sqrt(2*h/g).reshape(x.shape[0])\n",
    "    return f.T"
   ]
  },
  {
   "cell_type": "markdown",
   "metadata": {},
   "source": [
    "We run the `timedrop()` function at 21 different unique locations such that $\\mathbf{x}$ is $m \\times p$ input matrix with $m = 21$ and $p = 1$."
   ]
  },
  {
   "cell_type": "markdown",
   "metadata": {},
   "source": [
    "## Prior specification"
   ]
  },
  {
   "cell_type": "markdown",
   "metadata": {},
   "source": [
    "For this example, we define a uniform prior for $g$ such that $g$ ~ $U(6, 15)$. We perform computer model simulations at $n = 100$ random settings of the calibration parameter $g$, and obtain $m \\times n$ model output matrix $\\mathbf{f}$."
   ]
  },
  {
   "cell_type": "code",
   "execution_count": 5,
   "metadata": {},
   "outputs": [],
   "source": [
    "# Define prior\n",
    "class prior_balldrop:\n",
    "    \"\"\" This defines the class instance of priors provided to the method. \"\"\"\n",
    "    def lpdf(theta):\n",
    "        return sps.uniform.logpdf(theta[:, 0], 0, 1).reshape((len(theta), 1)) \n",
    "\n",
    "    def rnd(n):\n",
    "        return np.vstack((sps.uniform.rvs(0, 1, size=n)))"
   ]
  },
  {
   "cell_type": "code",
   "execution_count": 6,
   "metadata": {},
   "outputs": [
    {
     "name": "stdout",
     "output_type": "stream",
     "text": [
      "(100, 1)\n",
      "(21, 1)\n",
      "(21, 100)\n"
     ]
    }
   ],
   "source": [
    "# Draw 100 random parameters from uniform prior\n",
    "n = 100\n",
    "theta = prior_balldrop.rnd(n)\n",
    "theta_range = np.array([6, 15])\n",
    "\n",
    "# Standardize \n",
    "x_range = np.array([min(x), max(x)])\n",
    "x_std = (x - min(x))/(max(x) - min(x))\n",
    "\n",
    "# Obtain computer model output\n",
    "f = timedrop(x_std, theta, x_range, theta_range)\n",
    "\n",
    "print(np.shape(theta))\n",
    "print(np.shape(x_std))\n",
    "print(np.shape(f))"
   ]
  },
  {
   "cell_type": "markdown",
   "metadata": {},
   "source": [
    "## Model emulation"
   ]
  },
  {
   "cell_type": "markdown",
   "metadata": {},
   "source": [
    "Let's build an emulator for computer model runs:"
   ]
  },
  {
   "cell_type": "code",
   "execution_count": 7,
   "metadata": {},
   "outputs": [],
   "source": [
    "emulator_1 = emulator(x=x_std, theta=theta, f=f, method='PCGP')"
   ]
  },
  {
   "cell_type": "markdown",
   "metadata": {},
   "source": [
    "### Comparison of emulation methodologies"
   ]
  },
  {
   "cell_type": "markdown",
   "metadata": {},
   "source": [
    "One way to test the accuracy of the emulators is to create a hold-out simulation run, and compare the predicted values from the emulator and simulated values. To do this, let's first generate random draws of parameters, and evaluate the computer model at those values."
   ]
  },
  {
   "cell_type": "code",
   "execution_count": 8,
   "metadata": {},
   "outputs": [
    {
     "name": "stdout",
     "output_type": "stream",
     "text": [
      "(1000, 1)\n",
      "(21, 1000)\n",
      "SSE PCGP =  0.0\n",
      "Rsq PCGP =  1.0\n"
     ]
    }
   ],
   "source": [
    "#Generate random reasonable theta values\n",
    "n_test = 1000\n",
    "theta_test = prior_balldrop.rnd(n_test)\n",
    "print(np.shape(theta_test))\n",
    "\n",
    "# Obtain computer model output\n",
    "f_test = timedrop(x_std, theta_test, x_range, theta_range)\n",
    "print(np.shape(f_test))\n",
    "\n",
    "#Predict\n",
    "p_1 = emulator_1.predict(x_std, theta_test)\n",
    "p_1_mean, p_1_var = p_1.mean(), p_1.var()\n",
    "\n",
    "\n",
    "print('SSE PCGP = ', np.round(np.sum((p_1_mean - f_test)**2), 2))\n",
    "\n",
    "print('Rsq PCGP = ', 1 - np.round(np.sum(np.square(p_1_mean - f_test))/np.sum(np.square(f_test.T - np.mean(f_test, axis = 1))), 2))"
   ]
  },
  {
   "cell_type": "markdown",
   "metadata": {},
   "source": [
    "## Model calibration"
   ]
  },
  {
   "cell_type": "code",
   "execution_count": 9,
   "metadata": {},
   "outputs": [],
   "source": [
    "def plot_pred(x_std, xrep, y, cal, theta_range):\n",
    "    \n",
    "    fig, axs = plt.subplots(1, 4, figsize=(14, 3))\n",
    "\n",
    "    cal_theta = cal.theta.rnd(1000) \n",
    "    cal_theta = cal_theta*(theta_range[1] - theta_range[0]) + theta_range[0]  \n",
    "    axs[0].plot(cal_theta)\n",
    "    axs[1].boxplot(cal_theta)\n",
    "    axs[2].hist(cal_theta)\n",
    "    \n",
    "    post = cal.predict(x_std)\n",
    "    rndm_m = post.rnd(s = 1000)\n",
    "    upper = np.percentile(rndm_m, 97.5, axis = 0)\n",
    "    lower = np.percentile(rndm_m, 2.5, axis = 0)\n",
    "    median = np.percentile(rndm_m, 50, axis = 0)\n",
    "\n",
    "    axs[3].plot(xrep[0:21].reshape(21), median, color = 'black')\n",
    "    axs[3].fill_between(xrep[0:21].reshape(21), lower, upper, color = 'grey')\n",
    "    axs[3].plot(xrep, y, 'ro', markersize = 5, color='red')\n",
    "    \n",
    "    plt.show()"
   ]
  },
  {
   "cell_type": "code",
   "execution_count": 10,
   "metadata": {},
   "outputs": [
    {
     "data": {
      "image/png": "[encoded data removed]",
      "text/plain": [
       "<Figure size 1008x216 with 4 Axes>"
      ]
     },
     "metadata": {
      "needs_background": "light"
     },
     "output_type": "display_data"
    }
   ],
   "source": [
    "obsvar = np.maximum(0.2*y, 0.1)\n",
    "\n",
    "# Fit a calibrator with emulator 1 via via method = 'directbayes' and 'sampler' = 'metropolis_hastings' \n",
    "cal_1 = calibrator(emu=emulator_1,\n",
    "                   y=y,\n",
    "                   x=x_std,\n",
    "                   thetaprior=prior_balldrop, \n",
    "                   method='directbayes',\n",
    "                   yvar=obsvar, \n",
    "                   args={'theta0': np.array([[0.4]]), \n",
    "                         'numsamp' : 1000, \n",
    "                         'stepType' : 'normal', \n",
    "                         'stepParam' : [0.3]})\n",
    "\n",
    "plot_pred(x_std, x, y, cal_1, theta_range)"
   ]
  },
  {
   "cell_type": "code",
   "execution_count": 11,
   "metadata": {},
   "outputs": [
    {
     "data": {
      "image/png": "[encoded data removed]",
      "text/plain": [
       "<Figure size 1008x216 with 4 Axes>"
      ]
     },
     "metadata": {
      "needs_background": "light"
     },
     "output_type": "display_data"
    }
   ],
   "source": [
    "# Fit a calibrator via method = 'directbayes' and 'sampler' : 'LMC'\n",
    "cal_2 = calibrator(emu=emulator_1,\n",
    "                   y=y,\n",
    "                   x=x_std,\n",
    "                   thetaprior=prior_balldrop, \n",
    "                   method='directbayeswoodbury',\n",
    "                   yvar=obsvar)\n",
    "\n",
    "plot_pred(x_std, x, y, cal_2, theta_range)"
   ]
  }
 ],
 "metadata": {
  "jupytext": {
   "formats": "ipynb,py:percent"
  },
  "kernelspec": {
   "display_name": "Python 3",
   "language": "python",
   "name": "python3"
  },
  "language_info": {
   "codemirror_mode": {
    "name": "ipython",
    "version": 3
   },
   "file_extension": ".py",
   "mimetype": "text/x-python",
   "name": "python",
   "nbconvert_exporter": "python",
   "pygments_lexer": "ipython3",
   "version": "3.7.9"
  }
 },
 "nbformat": 4,
 "nbformat_minor": 2
}
