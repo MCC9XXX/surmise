{
 "cells": [
  {
   "cell_type": "code",
   "execution_count": 3,
   "id": "57a34ed3",
   "metadata": {},
   "outputs": [],
   "source": [
    "import numpy as np\n",
    "import pandas as pd\n",
    "from scipy.stats import norm\n",
    "from scipy.stats import uniform\n",
    "import matplotlib.pyplot as plt"
   ]
  },
  {
   "cell_type": "code",
   "execution_count": 4,
   "id": "f010b74b",
   "metadata": {},
   "outputs": [
    {
     "name": "stdout",
     "output_type": "stream",
     "text": [
      "[2.17063377 1.97497905 1.97779617]\n"
     ]
    }
   ],
   "source": [
    "mean = 1\n",
    "stdv = 2\n",
    "num = 3\n",
    "y = np.random.normal(mean,stdv,num)\n",
    "print(y)"
   ]
  },
  {
   "cell_type": "code",
   "execution_count": 5,
   "id": "13f7c268",
   "metadata": {},
   "outputs": [
    {
     "name": "stdout",
     "output_type": "stream",
     "text": [
      "[-10.0, -9.99, -9.98, -9.97, -9.96]\n",
      "[4.05058857e-11 4.21580254e-11 4.38756019e-11 4.56611254e-11]\n",
      "0.9999999990334338\n"
     ]
    }
   ],
   "source": [
    "res = 1/100\n",
    "mu_h = np.arange(-10,10,res).tolist()\n",
    "print(mu_h[0:5])\n",
    "density = norm.pdf(mu_h,-1,1.5)\n",
    "prior = density*res\n",
    "print(prior[0:4])\n",
    "print(sum(prior))"
   ]
  },
  {
   "cell_type": "code",
   "execution_count": 6,
   "id": "16e2ab3f",
   "metadata": {},
   "outputs": [],
   "source": [
    "likelihood = []\n",
    "for i in mu_h:\n",
    "    temp_lik = 1\n",
    "    for ii in range(1,num):\n",
    "            temp_lik = temp_lik*norm.pdf(y[ii], i, 2)\n",
    "    likelihood.append(temp_lik)\n",
    "normalized_likelihood = list(i/sum(likelihood) for i in likelihood)\n",
    "norm_like = np.stack(normalized_likelihood)\n",
    "\n"
   ]
  },
  {
   "cell_type": "code",
   "execution_count": 7,
   "id": "497c9105",
   "metadata": {},
   "outputs": [],
   "source": [
    "unnormalized_posterior = [likelihood[i]*prior[i] for i in range(len(likelihood))]\n",
    "normalizing_constant = 1/sum(unnormalized_posterior)\n",
    "posterior = list(i*normalizing_constant for i in unnormalized_posterior)\n",
    "post = np.stack(posterior)"
   ]
  },
  {
   "cell_type": "code",
   "execution_count": 8,
   "id": "0effdaaf",
   "metadata": {},
   "outputs": [
    {
     "data": {
      "text/plain": [
       "[<matplotlib.lines.Line2D at 0x7f98c0735190>]"
      ]
     },
     "execution_count": 8,
     "metadata": {},
     "output_type": "execute_result"
    },
    {
     "data": {
      "image/png": "[encoded data removed]",
      "text/plain": [
       "<Figure size 432x288 with 1 Axes>"
      ]
     },
     "metadata": {
      "needs_background": "light"
     },
     "output_type": "display_data"
    }
   ],
   "source": [
    "plot_likelihood = norm_like/res\n",
    "plot_posterior = post/res\n",
    "plt.plot(mu_h, density, color = 'red')\n",
    "plt.plot(mu_h, plot_likelihood, color = 'green')\n",
    "plt.plot(mu_h, plot_posterior, color = 'blue')\n",
    "\n",
    "\n"
   ]
  },
  {
   "cell_type": "code",
   "execution_count": 9,
   "id": "cda5e5d0",
   "metadata": {},
   "outputs": [],
   "source": [
    "sigma_h = np.arange(0,10,res).tolist()\n",
    "sigma_density = uniform.pdf(sigma_h, min(sigma_h), max(sigma_h))\n",
    "sigma_prior = sigma_density*res\n",
    "mu_prior = prior"
   ]
  },
  {
   "cell_type": "code",
   "execution_count": 17,
   "id": "52adeb73",
   "metadata": {},
   "outputs": [
    {
     "name": "stdout",
     "output_type": "stream",
     "text": [
      "<class 'numpy.ndarray'>\n"
     ]
    }
   ],
   "source": [
    "joint_prior = np.ones((len(sigma_prior),len(mu_prior)))\n",
    "count = np.arange(0,len(mu_prior)).tolist()\n",
    "df = pd.DataFrame(joint_prior,columns = count)\n",
    "for i in range(len(mu_prior)):\n",
    "    for sigma_s in sigma_prior:\n",
    "        hold = mu_prior[i] * sigma_s\n",
    "    df[i]=df[i]*hold\n",
    "joint_prior = np.array(df)\n",
    "\n",
    "\n",
    "    "
   ]
  },
  {
   "cell_type": "code",
   "execution_count": null,
   "id": "b55a12e7",
   "metadata": {},
   "outputs": [],
   "source": [
    "joint_likelihood = \n",
    "\n",
    "for i in range(len(mu_h)):\n",
    "    for s in sigma_h:\n",
    "        temp_lik = 1\n",
    "        for ii in range(1,num):\n",
    "            temp_lik = temp_lik*norm.pdf(y[ii], sigma_h[s],)\n",
    "            likelihood.append(temp_lik)\n",
    "\n",
    "       \n",
    "oint.likelihood <- sapply(mu.h, function(mu.s) { # Sapply's instead of loops\n",
    "                      sapply(sigma.h, function(sigma.s) { prod(dnorm(y, mu.s, sigma.s)) })})"
   ]
  },
  {
   "cell_type": "code",
   "execution_count": 21,
   "id": "7718e027",
   "metadata": {
    "scrolled": true
   },
   "outputs": [
    {
     "name": "stdout",
     "output_type": "stream",
     "text": [
      "(2, 3)\n"
     ]
    }
   ],
   "source": []
  },
  {
   "cell_type": "code",
   "execution_count": null,
   "id": "bd935a00",
   "metadata": {},
   "outputs": [],
   "source": []
  },
  {
   "cell_type": "code",
   "execution_count": null,
   "id": "cf2a6f76",
   "metadata": {},
   "outputs": [],
   "source": []
  },
  {
   "cell_type": "code",
   "execution_count": null,
   "id": "74801864",
   "metadata": {},
   "outputs": [],
   "source": []
  }
 ],
 "metadata": {
  "kernelspec": {
   "display_name": "Python 3",
   "language": "python",
   "name": "python3"
  },
  "language_info": {
   "codemirror_mode": {
    "name": "ipython",
    "version": 3
   },
   "file_extension": ".py",
   "mimetype": "text/x-python",
   "name": "python",
   "nbconvert_exporter": "python",
   "pygments_lexer": "ipython3",
   "version": "3.8.8"
  }
 },
 "nbformat": 4,
 "nbformat_minor": 5
}
